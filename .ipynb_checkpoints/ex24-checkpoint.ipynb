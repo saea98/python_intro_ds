{
 "cells": [
  {
   "cell_type": "code",
   "execution_count": 5,
   "metadata": {},
   "outputs": [
    {
     "name": "stdout",
     "output_type": "stream",
     "text": [
      "Let´s practice everything.\n",
      "You'd need to know 'bout escapes with \\ that do :\n",
      "\n",
      "   newlines and it \t tabs \n",
      "----------\n",
      "\n",
      "\tThe lovely world \n",
      "with logic so firmly planted\n",
      "cannot discern \n",
      " the needs of love \n",
      "nor requires an explanation \n",
      "\n",
      "\t\twhere there is none\n",
      "\n",
      "----------\n"
     ]
    }
   ],
   "source": [
    "print(\"Let´s practice everything.\")\n",
    "print('You\\'d need to know \\'bout escapes with \\\\ that do :')\n",
    "print('\\n   newlines and it \\t tabs ' )\n",
    "\n",
    "poem=\"\"\"\n",
    "\\tThe lovely world \n",
    "with logic so firmly planted\n",
    "cannot discern \\n the needs of love \n",
    "nor requires an explanation \n",
    "\\n\\t\\twhere there is none\n",
    "\"\"\"\n",
    "print(\"-\"*10)\n",
    "print(poem)\n",
    "print(\"-\"*10)"
   ]
  },
  {
   "cell_type": "code",
   "execution_count": null,
   "metadata": {},
   "outputs": [],
   "source": []
  }
 ],
 "metadata": {
  "kernelspec": {
   "display_name": "Python 3",
   "language": "python",
   "name": "python3"
  },
  "language_info": {
   "codemirror_mode": {
    "name": "ipython",
    "version": 3
   },
   "file_extension": ".py",
   "mimetype": "text/x-python",
   "name": "python",
   "nbconvert_exporter": "python",
   "pygments_lexer": "ipython3",
   "version": "3.7.1"
  }
 },
 "nbformat": 4,
 "nbformat_minor": 2
}
