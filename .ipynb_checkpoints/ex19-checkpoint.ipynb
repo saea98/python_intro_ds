{
 "cells": [
  {
   "cell_type": "code",
   "execution_count": 1,
   "metadata": {},
   "outputs": [
    {
     "name": "stdout",
     "output_type": "stream",
     "text": [
      "We cant just give the function number directly\n",
      "You have 20 cheeses!\n",
      "You have 30, boxes of crackers!\n",
      "Man that´s enougth for a party\n",
      "Get a blanket. \n",
      "\n",
      "OR, we can use variables from our script\n",
      "You have 10 cheeses!\n",
      "You have 50, boxes of crackers!\n",
      "Man that´s enougth for a party\n",
      "Get a blanket. \n",
      "\n",
      "OR, we can use variables from our script\n",
      "You have 10 cheeses!\n",
      "You have 50, boxes of crackers!\n",
      "Man that´s enougth for a party\n",
      "Get a blanket. \n",
      "\n",
      "se puede usar el resultado de una operación en cada parametro \n",
      "You have 60 cheeses!\n",
      "You have 55, boxes of crackers!\n",
      "Man that´s enougth for a party\n",
      "Get a blanket. \n",
      "\n",
      "se pueden usar de forma mixta entre variables, n{umeros y realizar iperaciones entre ellos}\n",
      "You have 30 cheeses!\n",
      "You have 100, boxes of crackers!\n",
      "Man that´s enougth for a party\n",
      "Get a blanket. \n",
      "\n"
     ]
    }
   ],
   "source": [
    "def cheese_crackers(cheese_count, boxes_of_crackers):\n",
    "    print (f\"You have {cheese_count} cheeses!\")\n",
    "    print(f\"You have {boxes_of_crackers}, boxes of crackers!\")\n",
    "    print(\"Man that´s enougth for a party\")\n",
    "    print (\"Get a blanket. \\n\")\n",
    "print(\"We cant just give the function number directly\")\n",
    "cheese_crackers(20,30)\n",
    "print(\"OR, we can use variables from our script\")\n",
    "amount_of_cheese=10\n",
    "amount_of_crackers=50\n",
    "cheese_crackers(amount_of_cheese,amount_of_crackers)\n",
    "print(\"OR, we can use variables from our script\")\n",
    "amount_of_cheese=10\n",
    "amount_of_crackers=50\n",
    "cheese_crackers(amount_of_cheese,amount_of_crackers)\n",
    "print(\"se puede usar el resultado de una operación en cada parametro \")\n",
    "cheese_crackers(50+10,30+25)\n",
    "print(\"se pueden usar de forma mixta entre variables, n{umeros y realizar iperaciones entre ellos}\")\n",
    "cheese_crackers(amount_of_cheese+20,amount_of_crackers+50)"
   ]
  },
  {
   "cell_type": "code",
   "execution_count": null,
   "metadata": {},
   "outputs": [],
   "source": []
  },
  {
   "cell_type": "code",
   "execution_count": null,
   "metadata": {},
   "outputs": [],
   "source": []
  }
 ],
 "metadata": {
  "kernelspec": {
   "display_name": "Python 3",
   "language": "python",
   "name": "python3"
  },
  "language_info": {
   "codemirror_mode": {
    "name": "ipython",
    "version": 3
   },
   "file_extension": ".py",
   "mimetype": "text/x-python",
   "name": "python",
   "nbconvert_exporter": "python",
   "pygments_lexer": "ipython3",
   "version": "3.7.1"
  }
 },
 "nbformat": 4,
 "nbformat_minor": 2
}
