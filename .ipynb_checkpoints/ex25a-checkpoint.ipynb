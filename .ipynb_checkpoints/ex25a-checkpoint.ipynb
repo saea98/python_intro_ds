{
 "cells": [
  {
   "cell_type": "code",
   "execution_count": 2,
   "metadata": {},
   "outputs": [
    {
     "name": "stdout",
     "output_type": "stream",
     "text": [
      "All\n",
      "wait.\n",
      "All\n",
      "who\n",
      "All\n",
      "wait.\n",
      "All\n",
      "who\n"
     ]
    }
   ],
   "source": [
    "import ex25\n",
    "sentence = \"All good things come to those who wait.\"\n",
    "words = ex25.break_words(sentence)\n",
    "words\n",
    "sorted_words = ex25.sort_words(words)\n",
    "sorted_words\n",
    "ex25.print_first_word(words)\n",
    "ex25.print_last_word(words)\n",
    "words\n",
    "ex25.print_first_word(sorted_words)\n",
    "ex25.print_last_word(sorted_words)\n",
    "sorted_words\n",
    "sorted_words = ex25.sort_sentence(sentence)\n",
    "sorted_words\n",
    "ex25.print_first_and_last(sentence)\n",
    "ex25.print_first_and_last_sorted(sentence)"
   ]
  },
  {
   "cell_type": "code",
   "execution_count": null,
   "metadata": {},
   "outputs": [],
   "source": []
  }
 ],
 "metadata": {
  "kernelspec": {
   "display_name": "Python 3",
   "language": "python",
   "name": "python3"
  },
  "language_info": {
   "codemirror_mode": {
    "name": "ipython",
    "version": 3
   },
   "file_extension": ".py",
   "mimetype": "text/x-python",
   "name": "python",
   "nbconvert_exporter": "python",
   "pygments_lexer": "ipython3",
   "version": "3.7.1"
  }
 },
 "nbformat": 4,
 "nbformat_minor": 2
}
