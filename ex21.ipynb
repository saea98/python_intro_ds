{
 "cells": [
  {
   "cell_type": "code",
   "execution_count": 1,
   "metadata": {},
   "outputs": [],
   "source": [
    "# ejercicio 21"
   ]
  },
  {
   "cell_type": "code",
   "execution_count": 1,
   "metadata": {},
   "outputs": [
    {
     "name": "stdout",
     "output_type": "stream",
     "text": [
      "Sumando 40 + 7\n",
      "47\n",
      "Multiplicando 30 * 2\n",
      "60\n",
      "dividiendo 100 / 2\n",
      " edad 47, altura 60, iq 50.0\n",
      "puzzle\n",
      "dividiendo 50.0 / 2\n",
      "Multiplicando 20 * 25.0\n",
      "Restando 60-500.0\n",
      "Sumando 47 + -440.0\n",
      "-393.0\n"
     ]
    }
   ],
   "source": [
    "def add(a,b):\n",
    "    print(f\"Sumando {a} + {b}\")\n",
    "    return a+b\n",
    "\n",
    "def subtract(a,b):\n",
    "    print(f\"Restando {a}-{b}\")\n",
    "    return a-b\n",
    "def multiply(a,b):\n",
    "    print(f\"Multiplicando {a} * {b}\")\n",
    "    return a*b\n",
    "def divide(a,b):\n",
    "    print(f\"dividiendo {a} / {b}\")\n",
    "    return a / b\n",
    "age=add(40,7)\n",
    "print(age)\n",
    "altura=multiply(30,2)\n",
    "print(altura)\n",
    "iq=divide(100,2)\n",
    "print(f\" edad {age}, altura {altura}, iq {iq}\")\n",
    "print(\"puzzle\")\n",
    "what=add(age,subtract(altura,multiply(20,divide(iq,2))))\n",
    "print(what)"
   ]
  },
  {
   "cell_type": "code",
   "execution_count": null,
   "metadata": {},
   "outputs": [],
   "source": []
  }
 ],
 "metadata": {
  "kernelspec": {
   "display_name": "Python 3",
   "language": "python",
   "name": "python3"
  },
  "language_info": {
   "codemirror_mode": {
    "name": "ipython",
    "version": 3
   },
   "file_extension": ".py",
   "mimetype": "text/x-python",
   "name": "python",
   "nbconvert_exporter": "python",
   "pygments_lexer": "ipython3",
   "version": "3.7.1"
  }
 },
 "nbformat": 4,
 "nbformat_minor": 2
}
