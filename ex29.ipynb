{
 "cells": [
  {
   "cell_type": "code",
   "execution_count": 3,
   "metadata": {},
   "outputs": [
    {
     "name": "stdout",
     "output_type": "stream",
     "text": [
      "Too many cats! The world is doomed!\n",
      "The world is dry!\n",
      "People are greater than or equal to dogs.\n",
      "People are less than or equal to dogs.\n",
      "People are dogs.\n"
     ]
    }
   ],
   "source": [
    "people = 20\n",
    "cats = 30\n",
    "dogs = 15\n",
    "\n",
    "if people < cats:\n",
    "    print(\"Too many cats! The world is doomed!\")\n",
    "if people > cats:\n",
    "    print(\"Not many cats! The world is saved!\")\n",
    "if people < dogs:\n",
    "    print(\"The world is drooled on!\")\n",
    "if people > dogs:\n",
    "    print(\"The world is dry!\")\n",
    "    dogs += 5\n",
    "if people >= dogs:\n",
    "    print(\"People are greater than or equal to dogs.\") \n",
    "if people <= dogs:\n",
    "    print(\"People are less than or equal to dogs.\")\n",
    "if people == dogs:\n",
    "    print(\"People are dogs.\")"
   ]
  },
  {
   "cell_type": "code",
   "execution_count": null,
   "metadata": {},
   "outputs": [],
   "source": []
  }
 ],
 "metadata": {
  "kernelspec": {
   "display_name": "Python 3",
   "language": "python",
   "name": "python3"
  },
  "language_info": {
   "codemirror_mode": {
    "name": "ipython",
    "version": 3
   },
   "file_extension": ".py",
   "mimetype": "text/x-python",
   "name": "python",
   "nbconvert_exporter": "python",
   "pygments_lexer": "ipython3",
   "version": "3.7.1"
  }
 },
 "nbformat": 4,
 "nbformat_minor": 2
}
