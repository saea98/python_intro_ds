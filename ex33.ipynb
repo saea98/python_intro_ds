{
 "cells": [
  {
   "cell_type": "code",
   "execution_count": 1,
   "metadata": {},
   "outputs": [
    {
     "name": "stdout",
     "output_type": "stream",
     "text": [
      "At the top i is 0\n",
      "Numbers now:  [0]\n",
      "At the bottom i is 1\n",
      "At the top i is 1\n",
      "Numbers now:  [0, 1]\n",
      "At the bottom i is 2\n",
      "At the top i is 2\n",
      "Numbers now:  [0, 1, 2]\n",
      "At the bottom i is 3\n",
      "At the top i is 3\n",
      "Numbers now:  [0, 1, 2, 3]\n",
      "At the bottom i is 4\n",
      "At the top i is 4\n",
      "Numbers now:  [0, 1, 2, 3, 4]\n",
      "At the bottom i is 5\n",
      "At the top i is 5\n",
      "Numbers now:  [0, 1, 2, 3, 4, 5]\n",
      "At the bottom i is 6\n",
      "The numbers: \n",
      "0\n",
      "1\n",
      "2\n",
      "3\n",
      "4\n",
      "5\n"
     ]
    }
   ],
   "source": [
    "i=0\n",
    "numbers = []\n",
    "\n",
    "while i < 6:\n",
    "    print(f\"At the top i is {i}\")\n",
    "    numbers.append(i)\n",
    "    \n",
    "    i=i+1\n",
    "    print(\"Numbers now: \", numbers)\n",
    "    print(f\"At the bottom i is {i}\")\n",
    "    \n",
    "print(\"The numbers: \")\n",
    "\n",
    "for num in numbers:\n",
    "    print(num)"
   ]
  },
  {
   "cell_type": "code",
   "execution_count": null,
   "metadata": {},
   "outputs": [],
   "source": []
  }
 ],
 "metadata": {
  "kernelspec": {
   "display_name": "Python 3",
   "language": "python",
   "name": "python3"
  },
  "language_info": {
   "codemirror_mode": {
    "name": "ipython",
    "version": 3
   },
   "file_extension": ".py",
   "mimetype": "text/x-python",
   "name": "python",
   "nbconvert_exporter": "python",
   "pygments_lexer": "ipython3",
   "version": "3.7.1"
  }
 },
 "nbformat": 4,
 "nbformat_minor": 2
}
